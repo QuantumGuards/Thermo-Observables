{
 "cells": [
  {
   "cell_type": "code",
   "execution_count": 1,
   "metadata": {},
   "outputs": [],
   "source": [
    "# from qiskit import *\n",
    "from qiskit.aqua.algorithms import VQE, NumPyEigensolver\n",
    "import matplotlib.pyplot as plt\n",
    "from numpy import random\n",
    "import numpy as np\n",
    "from qiskit.chemistry.components.variational_forms import UCCSD\n",
    "from qiskit.chemistry.components.initial_states import HartreeFock\n",
    "from qiskit.circuit.library import EfficientSU2\n",
    "# from qiskit.aqua.components.optimizers import *\n",
    "from graber import GRABER\n",
    "from qiskit.aqua.operators import Z2Symmetries\n",
    "from qiskit import IBMQ, BasicAer, Aer\n",
    "from qiskit.chemistry.drivers import PyQuanteDriver, UnitsType, BaseDriver\n",
    "from qiskit.chemistry import FermionicOperator\n",
    "import time"
   ]
  },
  {
   "cell_type": "code",
   "execution_count": 2,
   "metadata": {},
   "outputs": [],
   "source": [
    "def get_qubit_op(dist):\n",
    "    driver = PyQuanteDriver(atoms=\"Li .0 .0 .0; H .0 .0 \" + str(dist), units=UnitsType.ANGSTROM,\n",
    "                         charge=0)\n",
    "    molecule = driver.run()\n",
    "    freeze_list = [0]\n",
    "    remove_list = [-3, -2]\n",
    "    repulsion_energy = molecule.nuclear_repulsion_energy\n",
    "    num_particles = molecule.num_alpha + molecule.num_beta\n",
    "    num_spin_orbitals = molecule.num_orbitals * 2\n",
    "    remove_list = [x % molecule.num_orbitals for x in remove_list]\n",
    "    freeze_list = [x % molecule.num_orbitals for x in freeze_list]\n",
    "    remove_list = [x - len(freeze_list) for x in remove_list]\n",
    "    remove_list += [x + molecule.num_orbitals - len(freeze_list)  for x in remove_list]\n",
    "    freeze_list += [x + molecule.num_orbitals for x in freeze_list]\n",
    "    ferOp = FermionicOperator(h1=molecule.one_body_integrals, h2=molecule.two_body_integrals)\n",
    "    ferOp, energy_shift = ferOp.fermion_mode_freezing(freeze_list)\n",
    "    num_spin_orbitals -= len(freeze_list)\n",
    "    num_particles -= len(freeze_list)\n",
    "    ferOp = ferOp.fermion_mode_elimination(remove_list)\n",
    "    num_spin_orbitals -= len(remove_list)\n",
    "    qubitOp = ferOp.mapping(map_type='parity', threshold=0.00000001)\n",
    "    qubitOp = Z2Symmetries.two_qubit_reduction(qubitOp, num_particles)\n",
    "    shift = energy_shift + repulsion_energy\n",
    "    return qubitOp, num_particles, num_spin_orbitals, shift"
   ]
  },
  {
   "cell_type": "code",
   "execution_count": 3,
   "metadata": {},
   "outputs": [
    {
     "name": "stdout",
     "output_type": "stream",
     "text": [
      "Interatomic Distance: 0.5 VQE Result: -7.028409956821977 Exact Energy: [-7.03973238]\n",
      "2\n",
      "Interatomic Distance: 0.6 VQE Result: -7.299540961120479 Exact Energy: [-7.31334574]\n",
      "2\n",
      "Interatomic Distance: 0.7 VQE Result: -7.485944787683806 Exact Energy: [-7.50092201]\n",
      "2\n",
      "Interatomic Distance: 0.8 VQE Result: -7.615770093914689 Exact Energy: [-7.63097818]\n",
      "2\n",
      "Interatomic Distance: 0.9 VQE Result: -7.705753284033747 Exact Energy: [-7.72081235]\n",
      "2\n",
      "Interatomic Distance: 1.0 VQE Result: -7.767362100103378 Exact Energy: [-7.78224236]\n",
      "2\n",
      "Interatomic Distance: 1.1 VQE Result: -7.808743149183102 Exact Energy: [-7.82359925]\n",
      "2\n",
      "Interatomic Distance: 1.2 VQE Result: -7.83561580417955 Exact Energy: [-7.85069835]\n",
      "2\n",
      "Interatomic Distance: 1.3 VQE Result: -7.851953844825863 Exact Energy: [-7.86756327]\n",
      "2\n",
      "Interatomic Distance: 1.4 VQE Result: -7.860538647078238 Exact Energy: [-7.87700148]\n",
      "2\n",
      "Interatomic Distance: 1.5 VQE Result: -7.863357623256011 Exact Energy: [-7.88101572]\n",
      "2\n",
      "Interatomic Distance: 1.6 VQE Result: -7.8618647670635 Exact Energy: [-7.88107204]\n",
      "2\n",
      "Interatomic Distance: 1.7 VQE Result: -7.857144960785897 Exact Energy: [-7.87826817]\n",
      "2\n",
      "Interatomic Distance: 1.8 VQE Result: -7.850018711901736 Exact Energy: [-7.8734403]\n",
      "2\n",
      "Interatomic Distance: 1.9 VQE Result: -7.841112050347982 Exact Energy: [-7.86723397]\n",
      "2\n",
      "Interatomic Distance: 2.0 VQE Result: -7.830905599967078 Exact Energy: [-7.86015322]\n",
      "2\n",
      "Interatomic Distance: 2.1 VQE Result: -7.819770276178717 Exact Energy: [-7.85259584]\n",
      "2\n",
      "Interatomic Distance: 2.2 VQE Result: -7.807994392214801 Exact Energy: [-7.84487911]\n",
      "2\n",
      "Interatomic Distance: 2.3 VQE Result: -7.795804506772569 Exact Energy: [-7.83725798]\n",
      "2\n",
      "Interatomic Distance: 2.4 VQE Result: -7.78338165040611 Exact Energy: [-7.82993701]\n",
      "2\n",
      "Interatomic Distance: 2.5 VQE Result: -7.770873693794608 Exact Energy: [-7.82307665]\n",
      "2\n",
      "Interatomic Distance: 2.6 VQE Result: -7.758404423303639 Exact Energy: [-7.81679515]\n",
      "2\n",
      "Interatomic Distance: 2.7 VQE Result: -7.746079731773075 Exact Energy: [-7.81116829]\n",
      "2\n",
      "Interatomic Distance: 2.8 VQE Result: -7.7339913641653935 Exact Energy: [-7.80622956]\n",
      "2\n",
      "Interatomic Distance: 2.9 VQE Result: -7.722218807429069 Exact Energy: [-7.8019736]\n",
      "2\n",
      "Interatomic Distance: 3.0 VQE Result: -7.710829924686128 Exact Energy: [-7.79836344]\n",
      "2\n",
      "Interatomic Distance: 3.1 VQE Result: -7.69988095689137 Exact Energy: [-7.79534046]\n",
      "2\n",
      "Interatomic Distance: 3.2 VQE Result: -7.689416386429601 Exact Energy: [-7.79283482]\n",
      "2\n",
      "Interatomic Distance: 3.3 VQE Result: -7.679469006097687 Exact Energy: [-7.79077402]\n",
      "2\n",
      "Interatomic Distance: 3.4 VQE Result: -7.670060367937882 Exact Energy: [-7.7890889]\n",
      "2\n",
      "All energies have been calculated\n",
      "375.27548146247864\n"
     ]
    }
   ],
   "source": [
    "start = time.time()\n",
    "backend = BasicAer.get_backend(\"statevector_simulator\")\n",
    "distances = np.arange(0.5, 3.5, 0.1)\n",
    "exact_energies = []\n",
    "vqe_energies = []\n",
    "# optimizer = SLSQP(maxiter=5)\n",
    "optimizer = GRABER()\n",
    "initial_point = None\n",
    "\n",
    "for dist in distances:\n",
    "    qubitOp, num_particles, num_spin_orbitals, shift = get_qubit_op(dist)\n",
    "    result = NumPyEigensolver(qubitOp).run()\n",
    "    exact_energies.append(np.real(result.eigenvalues) + shift)\n",
    "    \n",
    "    initial_state = HartreeFock(\n",
    "        num_spin_orbitals,\n",
    "        num_particles,\n",
    "        qubit_mapping='parity')\n",
    "    \n",
    "    var_form = UCCSD(\n",
    "        num_orbitals=num_spin_orbitals,\n",
    "        num_particles=num_particles,\n",
    "        initial_state=initial_state,\n",
    "        qubit_mapping='parity'\n",
    "    )\n",
    "    vqe = VQE(qubitOp, var_form, optimizer, initial_point = initial_point)\n",
    "    vqe_result = np.real(vqe.run(backend)['eigenvalue']+shift)\n",
    "    vqe_energies.append(vqe_result)\n",
    "    print(\"Interatomic Distance:\", np.round(dist, 2), \"VQE Result:\", vqe_result, \"Exact Energy:\", exact_energies[-1])\n",
    "    #current = var_form.construct_circuit(vqe.optimal_params)\n",
    "    current = vqe.optimal_params\n",
    "    initial_point = current\n",
    "    print(vqe._ret['num_optimizer_evals'])\n",
    "print(\"All energies have been calculated\")\n",
    "end = time.time() -start\n",
    "print(end)"
   ]
  },
  {
   "cell_type": "code",
   "execution_count": 6,
   "metadata": {},
   "outputs": [
    {
     "data": {
      "image/png": "[encoded data removed]",
      "text/plain": [
       "<Figure size 432x288 with 1 Axes>"
      ]
     },
     "metadata": {
      "needs_background": "light"
     },
     "output_type": "display_data"
    }
   ],
   "source": [
    "plt.plot(distances, exact_energies, 'o', label=\"Exact Energy\")\n",
    "plt.plot(distances, vqe_energies, 'x', label=\"VQE Energy\")\n",
    "plt.xlabel('Atomic distance (Angstrom)')\n",
    "plt.ylabel('Energy')\n",
    "plt.legend()\n",
    "plt.show()"
   ]
  },
  {
   "cell_type": "code",
   "execution_count": 9,
   "metadata": {},
   "outputs": [
    {
     "name": "stdout",
     "output_type": "stream",
     "text": [
      "[ 0.24465577  1.08143314  1.46385088 -7.87276388]\n",
      "0.2446557674996625 *((1-np.exp(- 1.0814331434140916  * (x- 1.463850879475121 )))**2) +  -7.872763881625702\n"
     ]
    },
    {
     "data": {
      "image/png": "[encoded data removed]",
      "text/plain": [
       "<Figure size 432x288 with 1 Axes>"
      ]
     },
     "metadata": {
      "needs_background": "light"
     },
     "output_type": "display_data"
    }
   ],
   "source": [
    "from scipy import optimize\n",
    "\n",
    "#V (r) = De(1 − e−α(r−r0))^2\n",
    "def test_func(x, a, b, c, d):\n",
    "    return a * ((1- np.exp(-b*(x-c)))**2) + d\n",
    "\n",
    "params, params_covariance = optimize.curve_fit(test_func, distances, vqe_energies, p0=[1, -1, -1.9, -7.9])\n",
    "\n",
    "print(params)\n",
    "print(params[0], \"*((1-np.exp(-\", params[1], \" * (x-\", params[2], \")))**2) + \",params[3])\n",
    "\n",
    "fitted_energies = []\n",
    "for i in range(len(exact_energies)):\n",
    "#     print(test_func(distances[i], params[0], params[1], params[2]))\n",
    "    fitted_energies.append(test_func(distances[i], params[0], params[1], params[2], params[3]))\n",
    "    \n",
    "#plt.plot(distances, exact_energies, 'o', label=\"Exact Energy\")\n",
    "plt.plot(distances, vqe_energies, 'x', label=\"VQE Energy\")\n",
    "plt.plot(distances, fitted_energies,label='Fitted function')\n",
    "plt.xlabel('Atomic distance (Angstrom)')\n",
    "plt.ylabel('Energy (Hartree)')\n",
    "plt.legend(loc='best')\n",
    "plt.show()"
   ]
  },
  {
   "cell_type": "code",
   "execution_count": null,
   "metadata": {},
   "outputs": [],
   "source": [
    "D_e = params[0] #hartree\n",
    "alpha = params[1] #angstrom\n",
    "r_0 = params[2] #angstrom\n",
    "\n",
    "def reduced_mass(m_1,m_2):\n",
    "    mu_inv = (1/m1) + (1/m2)\n",
    "    return mu_inv**-1\n",
    "\n"
   ]
  }
 ],
 "metadata": {
  "kernelspec": {
   "display_name": "Python 3",
   "language": "python",
   "name": "python3"
  },
  "language_info": {
   "codemirror_mode": {
    "name": "ipython",
    "version": 3
   },
   "file_extension": ".py",
   "mimetype": "text/x-python",
   "name": "python",
   "nbconvert_exporter": "python",
   "pygments_lexer": "ipython3",
   "version": "3.7.7"
  }
 },
 "nbformat": 4,
 "nbformat_minor": 4
}
