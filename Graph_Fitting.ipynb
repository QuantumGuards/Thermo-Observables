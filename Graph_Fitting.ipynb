{
 "cells": [
  {
   "cell_type": "code",
   "execution_count": 1,
   "metadata": {},
   "outputs": [],
   "source": [
    "import numpy as np\n",
    "from qiskit import *"
   ]
  },
  {
   "cell_type": "code",
   "execution_count": 49,
   "metadata": {},
   "outputs": [],
   "source": [
    "from qiskit.aqua.algorithms import VQE, NumPyEigensolver\n",
    "import matplotlib.pyplot as plt\n",
    "import numpy as np\n",
    "from scipy import optimize\n",
    "from qiskit.chemistry.components.variational_forms import UCCSD\n",
    "from qiskit.chemistry.components.initial_states import HartreeFock\n",
    "from qiskit.circuit.library import EfficientSU2\n",
    "from qiskit.aqua.components.optimizers import COBYLA, SPSA, SLSQP\n",
    "from qiskit.aqua.operators import Z2Symmetries\n",
    "from qiskit import IBMQ, BasicAer, Aer\n",
    "from qiskit.chemistry.drivers import PyQuanteDriver, UnitsType, BaseDriver\n",
    "from qiskit.chemistry import FermionicOperator\n",
    "import warnings\n",
    "warnings.filterwarnings('ignore')"
   ]
  },
  {
   "cell_type": "code",
   "execution_count": 50,
   "metadata": {},
   "outputs": [],
   "source": [
    "def get_qubit_op(dist):\n",
    "    driver = PyQuanteDriver(atoms=\"Li .0 .0 .0; H .0 .0 \" + str(dist), units=UnitsType.ANGSTROM, \n",
    "                         charge=0)\n",
    "    molecule = driver.run()\n",
    "    freeze_list = [0]\n",
    "    remove_list = [-3, -2]\n",
    "    repulsion_energy = molecule.nuclear_repulsion_energy\n",
    "    num_particles = molecule.num_alpha + molecule.num_beta\n",
    "    num_spin_orbitals = molecule.num_orbitals * 2\n",
    "    remove_list = [x % molecule.num_orbitals for x in remove_list]\n",
    "    freeze_list = [x % molecule.num_orbitals for x in freeze_list]\n",
    "    remove_list = [x - len(freeze_list) for x in remove_list]\n",
    "    remove_list += [x + molecule.num_orbitals - len(freeze_list)  for x in remove_list]\n",
    "    freeze_list += [x + molecule.num_orbitals for x in freeze_list]\n",
    "    ferOp = FermionicOperator(h1=molecule.one_body_integrals, h2=molecule.two_body_integrals)\n",
    "    ferOp, energy_shift = ferOp.fermion_mode_freezing(freeze_list)\n",
    "    num_spin_orbitals -= len(freeze_list)\n",
    "    num_particles -= len(freeze_list)\n",
    "    ferOp = ferOp.fermion_mode_elimination(remove_list)\n",
    "    num_spin_orbitals -= len(remove_list)\n",
    "    qubitOp = ferOp.mapping(map_type='parity', threshold=0.00000001)\n",
    "    qubitOp = Z2Symmetries.two_qubit_reduction(qubitOp, num_particles)\n",
    "    shift = energy_shift + repulsion_energy\n",
    "    return qubitOp, num_particles, num_spin_orbitals, shift"
   ]
  },
  {
   "cell_type": "code",
   "execution_count": 51,
   "metadata": {},
   "outputs": [
    {
     "data": {
      "text/plain": [
       "(<qiskit.aqua.operators.legacy.weighted_pauli_operator.WeightedPauliOperator at 0x1a29ec9780>,\n",
       " 2,\n",
       " 6,\n",
       " -7.003149843108497)"
      ]
     },
     "execution_count": 51,
     "metadata": {},
     "output_type": "execute_result"
    }
   ],
   "source": [
    "get_qubit_op(4)"
   ]
  },
  {
   "cell_type": "code",
   "execution_count": 79,
   "metadata": {},
   "outputs": [
    {
     "name": "stdout",
     "output_type": "stream",
     "text": [
      "Interatomic Distance: 0.5 VQE Result: -7.039709910851991 Exact Energy: [-7.03973238]\n",
      "Interatomic Distance: 0.6 VQE Result: -7.31334419655845 Exact Energy: [-7.31334574]\n",
      "Interatomic Distance: 0.7 VQE Result: -7.500921012788252 Exact Energy: [-7.50092201]\n",
      "Interatomic Distance: 0.8 VQE Result: -7.630976849078243 Exact Energy: [-7.63097818]\n",
      "Interatomic Distance: 0.9 VQE Result: -7.7208107427430805 Exact Energy: [-7.72081235]\n",
      "Interatomic Distance: 1.0 VQE Result: -7.782240620903167 Exact Energy: [-7.78224236]\n",
      "Interatomic Distance: 1.1 VQE Result: -7.823597469174873 Exact Energy: [-7.82359925]\n",
      "Interatomic Distance: 1.2 VQE Result: -7.850696603356411 Exact Energy: [-7.85069835]\n",
      "Interatomic Distance: 1.3 VQE Result: -7.867561592137049 Exact Energy: [-7.86756327]\n",
      "Interatomic Distance: 1.4 VQE Result: -7.87699986400254 Exact Energy: [-7.87700148]\n",
      "Interatomic Distance: 1.5 VQE Result: -7.881014175687418 Exact Energy: [-7.88101572]\n",
      "Interatomic Distance: 1.6 VQE Result: -7.881070661530747 Exact Energy: [-7.88107204]\n",
      "Interatomic Distance: 1.7 VQE Result: -7.878267165372372 Exact Energy: [-7.87826817]\n",
      "Interatomic Distance: 1.8 VQE Result: -7.873440122477033 Exact Energy: [-7.8734403]\n",
      "Interatomic Distance: 1.9 VQE Result: -7.8672336706311405 Exact Energy: [-7.86723397]\n",
      "Interatomic Distance: 2.0 VQE Result: -7.860152337646445 Exact Energy: [-7.86015322]\n",
      "Interatomic Distance: 2.1 VQE Result: -7.852595119300618 Exact Energy: [-7.85259584]\n",
      "Interatomic Distance: 2.2 VQE Result: -7.844878739205355 Exact Energy: [-7.84487911]\n",
      "Interatomic Distance: 2.3 VQE Result: -7.837257448268675 Exact Energy: [-7.83725798]\n",
      "Interatomic Distance: 2.4 VQE Result: -7.82993504769941 Exact Energy: [-7.82993701]\n",
      "Interatomic Distance: 2.5 VQE Result: -7.823070186243048 Exact Energy: [-7.82307665]\n",
      "Interatomic Distance: 2.6 VQE Result: -7.816782570783197 Exact Energy: [-7.81679515]\n",
      "Interatomic Distance: 2.7 VQE Result: -7.811153404452013 Exact Energy: [-7.81116829]\n",
      "Interatomic Distance: 2.8 VQE Result: -7.806218283975937 Exact Energy: [-7.80622956]\n",
      "Interatomic Distance: 2.9 VQE Result: -7.801962371039889 Exact Energy: [-7.8019736]\n",
      "Interatomic Distance: 3.0 VQE Result: -7.798352417174327 Exact Energy: [-7.79836344]\n",
      "Interatomic Distance: 3.1 VQE Result: -7.7953268247907035 Exact Energy: [-7.79534046]\n",
      "Interatomic Distance: 3.2 VQE Result: -7.79280070193686 Exact Energy: [-7.79283482]\n",
      "Interatomic Distance: 3.3 VQE Result: -7.790603715752413 Exact Energy: [-7.79077402]\n",
      "Interatomic Distance: 3.4 VQE Result: -7.788715530497016 Exact Energy: [-7.7890889]\n",
      "Interatomic Distance: 3.5 VQE Result: -7.787216139356745 Exact Energy: [-7.78771697]\n",
      "Interatomic Distance: 3.6 VQE Result: -7.720282071654972 Exact Energy: [-7.78661386]\n",
      "Interatomic Distance: 3.7 VQE Result: -7.488796931792665 Exact Energy: [-7.66158741]\n",
      "Interatomic Distance: 3.8 VQE Result: -7.5801918407734705 Exact Energy: [-7.68303715]\n",
      "Interatomic Distance: 3.9 VQE Result: -7.5719881146243395 Exact Energy: [-7.70210174]\n",
      "All energies have been calculated\n"
     ]
    }
   ],
   "source": [
    "\n",
    "\n",
    "backend = BasicAer.get_backend(\"statevector_simulator\")\n",
    "distances = np.arange(0.5, 4.0, 0.1)\n",
    "exact_energies = []\n",
    "vqe_energies = []\n",
    "optimizer = SLSQP(maxiter=5)\n",
    "for dist in distances:\n",
    "    qubitOp, num_particles, num_spin_orbitals, shift = get_qubit_op(dist)\n",
    "    result = NumPyEigensolver(qubitOp).run()\n",
    "    exact_energies.append(np.real(result.eigenvalues) + shift)\n",
    "    initial_state = HartreeFock(\n",
    "        num_spin_orbitals,\n",
    "        num_particles,\n",
    "        qubit_mapping='parity'\n",
    "    ) \n",
    "    var_form = UCCSD(\n",
    "        num_orbitals=num_spin_orbitals,\n",
    "        num_particles=num_particles,\n",
    "        initial_state=initial_state,\n",
    "        qubit_mapping='parity'\n",
    "    )\n",
    "    vqe = VQE(qubitOp, var_form, optimizer)\n",
    "    vqe_result = np.real(vqe.run(backend)['eigenvalue'] + shift)\n",
    "    vqe_energies.append(vqe_result)\n",
    "    print(\"Interatomic Distance:\", np.round(dist, 2), \"VQE Result:\", vqe_result, \"Exact Energy:\", exact_energies[-1])\n",
    "    \n",
    "print(\"All energies have been calculated\")"
   ]
  },
  {
   "cell_type": "code",
   "execution_count": 80,
   "metadata": {},
   "outputs": [
    {
     "data": {
      "image/png": "[encoded data removed]",
      "text/plain": [
       "<Figure size 432x288 with 1 Axes>"
      ]
     },
     "metadata": {
      "needs_background": "light"
     },
     "output_type": "display_data"
    }
   ],
   "source": [
    "for i in range(len(exact_energies)):\n",
    "    exact_energies[i] = exact_energies[i][0]\n",
    "\n",
    "\n",
    "plt.plot(distances[:30], exact_energies[:30], label=\"Exact Energy\")\n",
    "plt.plot(distances[:30], vqe_energies[:30], label=\"VQE Energy\")\n",
    "plt.xlabel('Atomic distance (Angstrom)')\n",
    "plt.ylabel('Energy')\n",
    "plt.legend()\n",
    "plt.show()"
   ]
  },
  {
   "cell_type": "code",
   "execution_count": 147,
   "metadata": {},
   "outputs": [
    {
     "name": "stdout",
     "output_type": "stream",
     "text": [
      "[ 0.32181962  0.86404801  1.60018092 -7.91006233]\n",
      "0.32181962213092924 *((1-np.exp(- 0.8640480072433572  * (x- 1.600180918354498 )))**2) +  -7.9100623346458\n"
     ]
    }
   ],
   "source": [
    "#V (r) = De(1 − e−α(r−r0))^2\n",
    "\n",
    "def test_func(x, a, b, c, d):\n",
    "    return a * ((1- np.exp(-b*(x-c)))**2) + d\n",
    "\n",
    "# print(optimize.curve_fit(test_func, exact_energies, vqe_energies, p0=[2, 2]))\n",
    "# print(vqe_energies)\n",
    "# print(exact_energies)\n",
    "params, params_covariance = optimize.curve_fit(test_func, distances, vqe_energies, p0=[1, -1, -1.9, -7.9])\n",
    "\n",
    "print(params)\n",
    "print(params[0], \"*((1-np.exp(-\", params[1], \" * (x-\", params[2], \")))**2) + \",params[3])"
   ]
  },
  {
   "cell_type": "code",
   "execution_count": 148,
   "metadata": {},
   "outputs": [
    {
     "data": {
      "image/png": "[encoded data removed]",
      "text/plain": [
       "<Figure size 432x288 with 1 Axes>"
      ]
     },
     "metadata": {
      "needs_background": "light"
     },
     "output_type": "display_data"
    }
   ],
   "source": [
    "plt.plot(distances[:30], exact_energies[:30], label=\"Exact Energy\")\n",
    "plt.plot(distances[:30], vqe_energies[:30], label=\"VQE Energy\")\n",
    "fitted_energies = []\n",
    "for i in range(len(exact_energies)):\n",
    "#     print(test_func(distances[i], params[0], params[1], params[2]))\n",
    "    fitted_energies.append(test_func(distances[i], params[0], params[1], params[2], params[3]))\n",
    "plt.plot(distances[:30], fitted_energies[:30],label='Fitted function')\n",
    "plt.xlabel('Atomic distance (Angstrom)')\n",
    "plt.ylabel('Energy')\n",
    "plt.legend(loc='best')\n",
    "plt.show()\n",
    "\n",
    "\n",
    "\n"
   ]
  },
  {
   "cell_type": "code",
   "execution_count": null,
   "metadata": {},
   "outputs": [],
   "source": []
  }
 ],
 "metadata": {
  "kernelspec": {
   "display_name": "Python 3",
   "language": "python",
   "name": "python3"
  },
  "language_info": {
   "codemirror_mode": {
    "name": "ipython",
    "version": 3
   },
   "file_extension": ".py",
   "mimetype": "text/x-python",
   "name": "python",
   "nbconvert_exporter": "python",
   "pygments_lexer": "ipython3",
   "version": "3.8.3"
  }
 },
 "nbformat": 4,
 "nbformat_minor": 4
}
