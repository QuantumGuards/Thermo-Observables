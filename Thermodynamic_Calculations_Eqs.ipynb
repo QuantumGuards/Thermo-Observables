{
 "cells": [
  {
   "cell_type": "code",
   "execution_count": 2,
   "metadata": {},
   "outputs": [],
   "source": [
    "import numpy as np"
   ]
  },
  {
   "cell_type": "code",
   "execution_count": null,
   "metadata": {},
   "outputs": [],
   "source": [
    "#Conversions\n",
    "u_to_kg = 1.66054e-27 #amu to kg\n",
    "H_to_kJ_mol = 2625.5  #Hartree to kJ/mol\n",
    "H_to_J = 4.35974e-18 #J\n",
    "\n",
    "#masses\n",
    "li_m = 6.941*u_to_kg #kg\n",
    "h_m = 1.00784*u_to_kg #kg\n",
    "\n",
    "#Constants\n",
    "h = 6.62607004e-34 #J*s\n",
    "hbar = 1.0545718e-34 #J*s\n",
    "k_B = 1.380649e-23 #J/K"
   ]
  },
  {
   "cell_type": "code",
   "execution_count": null,
   "metadata": {},
   "outputs": [],
   "source": [
    "#calculate reduced mass for diatomic molecule\n",
    "def reduced_mass(m_1,m_2):\n",
    "    mu_inv = (1/m_1) + (1/m_2)\n",
    "    return mu_inv**-1"
   ]
  },
  {
   "cell_type": "code",
   "execution_count": null,
   "metadata": {},
   "outputs": [],
   "source": [
    "#calculate fundamental vibrational energy in Hz\n",
    "def vib_freq(D_e,mu,alpha):\n",
    "    alpha = alpha*10**-10\n",
    "    D_e = D_e*H_to_kJ_mol\n",
    "    nu = (alpha/(2*np.pi))*np.sqrt((2*D_e)/mu)\n",
    "    return nu"
   ]
  },
  {
   "cell_type": "code",
   "execution_count": null,
   "metadata": {},
   "outputs": [],
   "source": [
    "#Vibrational energy Levels\n",
    "def vib_eLevels(n,nu,D_e):\n",
    "    term_1 = h*nu*(n+(1/2))\n",
    "    term_2 = term_1**2/(4*D_e)\n",
    "    return term_1 - term_2"
   ]
  },
  {
   "cell_type": "code",
   "execution_count": null,
   "metadata": {},
   "outputs": [],
   "source": [
    "#Rotational energy levels:\n",
    "def rot_eLevels(J,r_0,mu):\n",
    "    term = (hbar**2/(2*I_m))*(J*(J+1))\n",
    "    return term"
   ]
  },
  {
   "cell_type": "code",
   "execution_count": null,
   "metadata": {},
   "outputs": [],
   "source": [
    "m1 = li_m\n",
    "m2 = h_m\n",
    "\n",
    "mu = reduced_mass(m_1,m_2)\n",
    "nu_0 = vib_freq(D_e,mu,alpha)\n",
    "I_m = r_0**2*mu*10**-10\n",
    "\n",
    "n_max = int((2*D_e - h*nu_0)/(h*nu_0)) #max vibrational mode\n",
    "E_diss = D_e - (vib_elevels(n_max,nu_0,D_e))\n",
    "J_max = int((np.sqrt(hbar**2+8*E_diss*r_0**2*mu)- hbar)/(2*hbar)) #max rotational mode"
   ]
  },
  {
   "cell_type": "code",
   "execution_count": 4,
   "metadata": {},
   "outputs": [],
   "source": [
    "#Partion Function Components\n",
    "def q_trans(T,V):\n",
    "    return ((2*np.pi*mu*k_B*T)/h**2)**(3/2)*V\n",
    "\n",
    "dq_trans = lambda T: (3/2)*(hbar**2/(2*np.pi*mu*k_B))*(1/T)\n",
    "\n",
    "def q_vib(n_max,T):\n",
    "    modes = np.empty(len(T))\n",
    "    terms = []\n",
    "    for j in range(len(T)):\n",
    "        for i in range(n_max):\n",
    "            terms.append(np.exp(-vib_eLevels(i,nu_0,D_e)/(k_B*T[j])))\n",
    "        modes[j] = np.sum(terms)\n",
    "        terms = []\n",
    "    return modes\n",
    "\n",
    "def q_rot(J_max,T):\n",
    "    theta_r = hbar**2/(2*I_m*k_B)\n",
    "    modes = np.empty(len(T))\n",
    "    terms = []\n",
    "    for i in range(len(T)):\n",
    "        for J in range(J_max):\n",
    "            terms.append(((2*J+1)*np.exp((-theta_2*J*(J+1))/T[i])))\n",
    "        modes[i] = np.sum(terms)\n",
    "        terms = []\n",
    "    return modes\n",
    "\n",
    "def derivative_log(func,T,i_max):\n",
    "    y = func(i_max,T)\n",
    "    dy_c = (y[2:] - y[:-2]) / (T[2:] - T[:-2]) #central difference method\n",
    "    return dy_c"
   ]
  },
  {
   "cell_type": "code",
   "execution_count": null,
   "metadata": {},
   "outputs": [],
   "source": [
    "def internal_E(T):\n",
    "    return k_B*T**2*(dq_trans+derivative_log(q_vib,T,n_max) + derivative_log(q_rot,T,J_max)\n",
    "\n",
    "def helmholtz(T,V):\n",
    "    return np.log(q_trans(T,V)) + np.log(q_vib(n_max,T)) + np.log(q_rot(J_max,T))"
   ]
  },
  {
   "cell_type": "code",
   "execution_count": null,
   "metadata": {},
   "outputs": [],
   "source": [
    "def enthalpy(T,V):\n",
    "    P_V = k_B*T\n",
    "    return internal_E(T) + P_V\n",
    "\n",
    "def entropy(T,V):\n",
    "    return (internal_E(T) - helmholtz(T,V)) / T"
   ]
  }
 ],
 "metadata": {
  "kernelspec": {
   "display_name": "Python 3",
   "language": "python",
   "name": "python3"
  },
  "language_info": {
   "codemirror_mode": {
    "name": "ipython",
    "version": 3
   },
   "file_extension": ".py",
   "mimetype": "text/x-python",
   "name": "python",
   "nbconvert_exporter": "python",
   "pygments_lexer": "ipython3",
   "version": "3.7.7"
  }
 },
 "nbformat": 4,
 "nbformat_minor": 4
}
